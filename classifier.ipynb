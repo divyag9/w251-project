{
 "cells": [
  {
   "cell_type": "code",
   "execution_count": 19,
   "metadata": {},
   "outputs": [],
   "source": [
    "import matplotlib.pyplot as plt\n",
    "from keras.preprocessing.image import ImageDataGenerator\n",
    "from keras.models import Sequential\n",
    "from keras.layers import Conv2D, MaxPooling2D\n",
    "from keras.layers import Activation, Dropout, Flatten, Dense\n",
    "from keras import backend as K\n",
    "from keras.callbacks import EarlyStopping\n",
    "from keras import optimizers"
   ]
  },
  {
   "cell_type": "code",
   "execution_count": 76,
   "metadata": {
    "collapsed": true
   },
   "outputs": [],
   "source": [
    "# dimensions of our images.\n",
    "img_width, img_height = 200, 200\n",
    "\n",
    "train_data_dir = 'images/train'\n",
    "validation_data_dir = 'images/validation'\n",
    "nb_train_samples = 90 \n",
    "nb_validation_samples = 10\n",
    "epochs = 10\n",
    "batch_size = 10"
   ]
  },
  {
   "cell_type": "code",
   "execution_count": 77,
   "metadata": {
    "collapsed": true
   },
   "outputs": [],
   "source": [
    "if K.image_data_format() == 'channels_first':\n",
    "    input_shape = (3, img_width, img_height)\n",
    "else:\n",
    "    input_shape = (img_width, img_height, 3)"
   ]
  },
  {
   "cell_type": "code",
   "execution_count": 78,
   "metadata": {},
   "outputs": [],
   "source": [
    "model = Sequential()\n",
    "model.add(Conv2D(20, (5, 5), input_shape=input_shape, padding='same'))\n",
    "model.add(Activation('relu'))\n",
    "model.add(MaxPooling2D(pool_size=(2, 2))) #,strides=(2, 2)\n",
    "model.add(Dropout(0.2))\n",
    "\n",
    "model.add(Conv2D(30, (5, 5), input_shape=input_shape, padding='same'))\n",
    "model.add(Activation('relu'))\n",
    "model.add(MaxPooling2D(pool_size=(2, 2))) #,strides=(2, 2)\n",
    "model.add(Dropout(0.2))\n",
    "\n",
    "model.add(Conv2D(50, (5, 5), input_shape=input_shape, padding='same'))\n",
    "model.add(Activation('relu'))\n",
    "model.add(MaxPooling2D(pool_size=(2, 2))) #,strides=(2, 2)\n",
    "model.add(Dropout(0.2))\n",
    "\n",
    "model.add(Flatten())\n",
    "model.add(Dense(40))\n",
    "model.add(Activation('relu'))\n",
    "model.add(Dropout(0.2))\n",
    "model.add(Dense(1))\n",
    "model.add(Activation('sigmoid'))\n",
    "\n",
    "# model.add(Conv2D(32, (3, 3), input_shape=input_shape))\n",
    "# model.add(Activation('relu'))\n",
    "# model.add(MaxPooling2D(pool_size=(2, 2)))\n",
    "\n",
    "# model.add(Conv2D(32, (3, 3)))\n",
    "# model.add(Activation('relu'))\n",
    "# model.add(MaxPooling2D(pool_size=(2, 2)))\n",
    "\n",
    "# model.add(Flatten())  # this converts our 3D feature maps to 1D feature vectors\n",
    "# model.add(Dense(64))\n",
    "# model.add(Activation('relu'))\n",
    "# model.add(Dropout(0.2))\n",
    "# model.add(Dense(1))\n",
    "# model.add(Activation('sigmoid'))\n",
    "\n",
    "\n",
    "\n",
    "model.compile(loss='binary_crossentropy',\n",
    "              optimizer='rmsprop',\n",
    "              metrics=['accuracy'])"
   ]
  },
  {
   "cell_type": "code",
   "execution_count": 79,
   "metadata": {},
   "outputs": [
    {
     "name": "stdout",
     "output_type": "stream",
     "text": [
      "_________________________________________________________________\n",
      "Layer (type)                 Output Shape              Param #   \n",
      "=================================================================\n",
      "conv2d_28 (Conv2D)           (None, 200, 200, 20)      1520      \n",
      "_________________________________________________________________\n",
      "activation_56 (Activation)   (None, 200, 200, 20)      0         \n",
      "_________________________________________________________________\n",
      "max_pooling2d_28 (MaxPooling (None, 100, 100, 20)      0         \n",
      "_________________________________________________________________\n",
      "dropout_32 (Dropout)         (None, 100, 100, 20)      0         \n",
      "_________________________________________________________________\n",
      "conv2d_29 (Conv2D)           (None, 100, 100, 30)      15030     \n",
      "_________________________________________________________________\n",
      "activation_57 (Activation)   (None, 100, 100, 30)      0         \n",
      "_________________________________________________________________\n",
      "max_pooling2d_29 (MaxPooling (None, 50, 50, 30)        0         \n",
      "_________________________________________________________________\n",
      "dropout_33 (Dropout)         (None, 50, 50, 30)        0         \n",
      "_________________________________________________________________\n",
      "conv2d_30 (Conv2D)           (None, 50, 50, 50)        37550     \n",
      "_________________________________________________________________\n",
      "activation_58 (Activation)   (None, 50, 50, 50)        0         \n",
      "_________________________________________________________________\n",
      "max_pooling2d_30 (MaxPooling (None, 25, 25, 50)        0         \n",
      "_________________________________________________________________\n",
      "dropout_34 (Dropout)         (None, 25, 25, 50)        0         \n",
      "_________________________________________________________________\n",
      "flatten_15 (Flatten)         (None, 31250)             0         \n",
      "_________________________________________________________________\n",
      "dense_29 (Dense)             (None, 40)                1250040   \n",
      "_________________________________________________________________\n",
      "activation_59 (Activation)   (None, 40)                0         \n",
      "_________________________________________________________________\n",
      "dropout_35 (Dropout)         (None, 40)                0         \n",
      "_________________________________________________________________\n",
      "dense_30 (Dense)             (None, 1)                 41        \n",
      "_________________________________________________________________\n",
      "activation_60 (Activation)   (None, 1)                 0         \n",
      "=================================================================\n",
      "Total params: 1,304,181\n",
      "Trainable params: 1,304,181\n",
      "Non-trainable params: 0\n",
      "_________________________________________________________________\n"
     ]
    }
   ],
   "source": [
    "model.summary()"
   ]
  },
  {
   "cell_type": "code",
   "execution_count": 80,
   "metadata": {
    "collapsed": true
   },
   "outputs": [],
   "source": [
    "# this is the augmentation configuration we will use for training\n",
    "train_datagen = ImageDataGenerator(\n",
    "    rescale=1. / 255,\n",
    "    shear_range=0.2,\n",
    "    zoom_range=0.2,\n",
    "    horizontal_flip=True)\n",
    "\n",
    "# this is the augmentation configuration we will use for testing:\n",
    "# only rescaling\n",
    "test_datagen = ImageDataGenerator(rescale=1. / 255)"
   ]
  },
  {
   "cell_type": "code",
   "execution_count": 81,
   "metadata": {},
   "outputs": [
    {
     "name": "stdout",
     "output_type": "stream",
     "text": [
      "Found 90 images belonging to 2 classes.\n",
      "Found 30 images belonging to 2 classes.\n"
     ]
    }
   ],
   "source": [
    "train_generator = train_datagen.flow_from_directory(\n",
    "    train_data_dir,\n",
    "    target_size=(img_width, img_height),\n",
    "    batch_size=batch_size,\n",
    "    color_mode='rgb',\n",
    "    class_mode='binary')\n",
    "\n",
    "validation_generator = test_datagen.flow_from_directory(\n",
    "    validation_data_dir,\n",
    "    target_size=(img_width, img_height),\n",
    "    batch_size=batch_size,\n",
    "    color_mode='rgb',\n",
    "    class_mode='binary')"
   ]
  },
  {
   "cell_type": "code",
   "execution_count": 35,
   "metadata": {},
   "outputs": [
    {
     "data": {
      "text/plain": [
       "{'0': 0, '1': 1}"
      ]
     },
     "execution_count": 35,
     "metadata": {},
     "output_type": "execute_result"
    }
   ],
   "source": [
    "train_generator.class_indices"
   ]
  },
  {
   "cell_type": "code",
   "execution_count": 85,
   "metadata": {
    "collapsed": true
   },
   "outputs": [],
   "source": [
    "# early stopping\n",
    "earlystop = EarlyStopping(monitor='val_acc', baseline=1.0)"
   ]
  },
  {
   "cell_type": "code",
   "execution_count": 82,
   "metadata": {},
   "outputs": [
    {
     "name": "stdout",
     "output_type": "stream",
     "text": [
      "Epoch 1/10\n",
      "9/9 [==============================] - 10s 1s/step - loss: 1.2009 - acc: 0.5778 - val_loss: 0.6225 - val_acc: 0.6000\n",
      "Epoch 2/10\n",
      "9/9 [==============================] - 8s 850ms/step - loss: 0.5239 - acc: 0.8333 - val_loss: 0.2938 - val_acc: 1.0000\n",
      "Epoch 3/10\n",
      "9/9 [==============================] - 8s 837ms/step - loss: 0.5216 - acc: 0.9111 - val_loss: 0.1639 - val_acc: 1.0000\n",
      "Epoch 4/10\n",
      "9/9 [==============================] - 8s 837ms/step - loss: 0.0991 - acc: 0.9889 - val_loss: 0.0102 - val_acc: 1.0000\n",
      "Epoch 5/10\n",
      "9/9 [==============================] - 7s 829ms/step - loss: 0.0165 - acc: 1.0000 - val_loss: 0.0061 - val_acc: 1.0000\n",
      "Epoch 6/10\n",
      "9/9 [==============================] - 8s 849ms/step - loss: 0.0143 - acc: 1.0000 - val_loss: 5.1355e-04 - val_acc: 1.0000\n",
      "Epoch 7/10\n",
      "9/9 [==============================] - 7s 824ms/step - loss: 0.0165 - acc: 0.9889 - val_loss: 4.8121e-04 - val_acc: 1.0000\n",
      "Epoch 8/10\n",
      "9/9 [==============================] - 7s 827ms/step - loss: 0.0063 - acc: 1.0000 - val_loss: 2.4113e-04 - val_acc: 1.0000\n",
      "Epoch 9/10\n",
      "9/9 [==============================] - 8s 863ms/step - loss: 0.0023 - acc: 1.0000 - val_loss: 9.2572e-05 - val_acc: 1.0000\n",
      "Epoch 10/10\n",
      "9/9 [==============================] - 8s 839ms/step - loss: 4.8600e-04 - acc: 1.0000 - val_loss: 2.8721e-05 - val_acc: 1.0000\n"
     ]
    }
   ],
   "source": [
    "history = model.fit_generator(\n",
    "    train_generator,\n",
    "    steps_per_epoch=nb_train_samples // batch_size,\n",
    "    epochs=epochs,\n",
    "    validation_data=validation_generator,\n",
    "    validation_steps=nb_validation_samples // batch_size)\n",
    "    #callbacks = [earlystop])\n"
   ]
  },
  {
   "cell_type": "code",
   "execution_count": 83,
   "metadata": {},
   "outputs": [
    {
     "data": {
      "image/png": "[encoded data removed]",
      "text/plain": [
       "<matplotlib.figure.Figure at 0x183bb44470>"
      ]
     },
     "metadata": {},
     "output_type": "display_data"
    }
   ],
   "source": [
    "# Plot training & validation loss values\n",
    "plt.plot(history.history['loss'])\n",
    "plt.plot(history.history['val_loss'])\n",
    "plt.title('Model loss')\n",
    "plt.ylabel('Loss')\n",
    "plt.xlabel('Epoch')\n",
    "plt.legend(['Train', 'Test'], loc='upper left')\n",
    "plt.show()"
   ]
  },
  {
   "cell_type": "code",
   "execution_count": null,
   "metadata": {
    "collapsed": true
   },
   "outputs": [],
   "source": []
  }
 ],
 "metadata": {
  "kernelspec": {
   "display_name": "Python 3",
   "language": "python",
   "name": "python3"
  },
  "language_info": {
   "codemirror_mode": {
    "name": "ipython",
    "version": 3
   },
   "file_extension": ".py",
   "mimetype": "text/x-python",
   "name": "python",
   "nbconvert_exporter": "python",
   "pygments_lexer": "ipython3",
   "version": "3.6.3"
  }
 },
 "nbformat": 4,
 "nbformat_minor": 2
}
