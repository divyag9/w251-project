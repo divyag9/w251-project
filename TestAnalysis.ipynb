{
 "cells": [
  {
   "cell_type": "code",
   "execution_count": 118,
   "metadata": {},
   "outputs": [],
   "source": [
    "import numpy as np\n",
    "import pickle\n",
    "import os\n",
    "import xml.etree.ElementTree as ET\n",
    "import heapq\n",
    "import utils\n",
    "import matplotlib.pyplot as plt\n",
    "from sklearn.metrics import roc_curve, roc_auc_score\n",
    "\n",
    "%matplotlib inline"
   ]
  },
  {
   "cell_type": "code",
   "execution_count": 107,
   "metadata": {
    "scrolled": true
   },
   "outputs": [
    {
     "name": "stdout",
     "output_type": "stream",
     "text": [
      "Using TensorFlow backend.\n",
      "{0: 'unripe_strawberry', 1: 'ripe_strawberry', 2: 'bg'}\n",
      "WARNING: Logging before flag parsing goes to stderr.\n",
      "W0806 05:39:25.834287 140111219914496 deprecation_wrapper.py:119] From /opt/conda/lib/python3.6/site-packages/keras/backend/tensorflow_backend.py:71: The name tf.get_default_graph is deprecated. Please use tf.compat.v1.get_default_graph instead.\n",
      "\n",
      "W0806 05:39:25.849231 140111219914496 deprecation_wrapper.py:119] From /opt/conda/lib/python3.6/site-packages/keras/backend/tensorflow_backend.py:514: The name tf.placeholder is deprecated. Please use tf.compat.v1.placeholder instead.\n",
      "\n",
      "W0806 05:39:25.854068 140111219914496 deprecation_wrapper.py:119] From /opt/conda/lib/python3.6/site-packages/keras/backend/tensorflow_backend.py:4076: The name tf.random_uniform is deprecated. Please use tf.random.uniform instead.\n",
      "\n",
      "W0806 05:39:25.886415 140111219914496 deprecation_wrapper.py:119] From /opt/conda/lib/python3.6/site-packages/keras/backend/tensorflow_backend.py:3900: The name tf.nn.max_pool is deprecated. Please use tf.nn.max_pool2d instead.\n",
      "\n",
      "W0806 05:39:27.270588 140111219914496 deprecation_wrapper.py:119] From /opt/conda/lib/python3.6/site-packages/keras/backend/tensorflow_backend.py:4053: The name tf.random_normal is deprecated. Please use tf.random.normal instead.\n",
      "\n",
      "W0806 05:39:27.314332 140111219914496 deprecation_wrapper.py:119] From /root/keras_frcnn/RoiPoolingConv.py:105: The name tf.image.resize_images is deprecated. Please use tf.image.resize instead.\n",
      "\n",
      "W0806 05:39:28.340771 140111219914496 deprecation_wrapper.py:119] From /opt/conda/lib/python3.6/site-packages/keras/backend/tensorflow_backend.py:3904: The name tf.nn.avg_pool is deprecated. Please use tf.nn.avg_pool2d instead.\n",
      "\n",
      "Loading weights from 2v100model_frcnn-epoch1090.hdf5\n",
      "W0806 05:39:28.875174 140111219914496 deprecation_wrapper.py:119] From /opt/conda/lib/python3.6/site-packages/keras/backend/tensorflow_backend.py:171: The name tf.get_default_session is deprecated. Please use tf.compat.v1.get_default_session instead.\n",
      "\n",
      "2019-08-06 05:39:28.875524: I tensorflow/core/platform/cpu_feature_guard.cc:142] Your CPU supports instructions that this TensorFlow binary was not compiled to use: AVX2 FMA\n",
      "2019-08-06 05:39:28.882960: I tensorflow/stream_executor/platform/default/dso_loader.cc:42] Successfully opened dynamic library libcuda.so.1\n",
      "2019-08-06 05:39:30.490167: I tensorflow/stream_executor/cuda/cuda_gpu_executor.cc:1005] successful NUMA node read from SysFS had negative value (-1), but there must be at least one NUMA node, so returning NUMA node zero\n",
      "2019-08-06 05:39:30.492766: I tensorflow/stream_executor/cuda/cuda_gpu_executor.cc:1005] successful NUMA node read from SysFS had negative value (-1), but there must be at least one NUMA node, so returning NUMA node zero\n",
      "2019-08-06 05:39:30.493914: I tensorflow/compiler/xla/service/service.cc:168] XLA service 0x55c3ccd03bc0 executing computations on platform CUDA. Devices:\n",
      "2019-08-06 05:39:30.493944: I tensorflow/compiler/xla/service/service.cc:175]   StreamExecutor device (0): Tesla V100-PCIE-16GB, Compute Capability 7.0\n",
      "2019-08-06 05:39:30.493953: I tensorflow/compiler/xla/service/service.cc:175]   StreamExecutor device (1): Tesla V100-PCIE-16GB, Compute Capability 7.0\n",
      "2019-08-06 05:39:30.496622: I tensorflow/core/platform/profile_utils/cpu_utils.cc:94] CPU Frequency: 2600095000 Hz\n",
      "2019-08-06 05:39:30.497426: I tensorflow/compiler/xla/service/service.cc:168] XLA service 0x55c3ccd7ee90 executing computations on platform Host. Devices:\n",
      "2019-08-06 05:39:30.497453: I tensorflow/compiler/xla/service/service.cc:175]   StreamExecutor device (0): <undefined>, <undefined>\n",
      "2019-08-06 05:39:30.497688: I tensorflow/stream_executor/cuda/cuda_gpu_executor.cc:1005] successful NUMA node read from SysFS had negative value (-1), but there must be at least one NUMA node, so returning NUMA node zero\n",
      "2019-08-06 05:39:30.498519: I tensorflow/core/common_runtime/gpu/gpu_device.cc:1640] Found device 0 with properties: \n",
      "name: Tesla V100-PCIE-16GB major: 7 minor: 0 memoryClockRate(GHz): 1.38\n",
      "pciBusID: 0000:00:07.0\n",
      "2019-08-06 05:39:30.498594: I tensorflow/stream_executor/cuda/cuda_gpu_executor.cc:1005] successful NUMA node read from SysFS had negative value (-1), but there must be at least one NUMA node, so returning NUMA node zero\n",
      "2019-08-06 05:39:30.499412: I tensorflow/core/common_runtime/gpu/gpu_device.cc:1640] Found device 1 with properties: \n",
      "name: Tesla V100-PCIE-16GB major: 7 minor: 0 memoryClockRate(GHz): 1.38\n",
      "pciBusID: 0000:00:08.0\n",
      "2019-08-06 05:39:30.499740: I tensorflow/stream_executor/platform/default/dso_loader.cc:42] Successfully opened dynamic library libcudart.so.10.0\n",
      "2019-08-06 05:39:30.501193: I tensorflow/stream_executor/platform/default/dso_loader.cc:42] Successfully opened dynamic library libcublas.so.10.0\n",
      "2019-08-06 05:39:30.502407: I tensorflow/stream_executor/platform/default/dso_loader.cc:42] Successfully opened dynamic library libcufft.so.10.0\n",
      "2019-08-06 05:39:30.502676: I tensorflow/stream_executor/platform/default/dso_loader.cc:42] Successfully opened dynamic library libcurand.so.10.0\n",
      "2019-08-06 05:39:30.504087: I tensorflow/stream_executor/platform/default/dso_loader.cc:42] Successfully opened dynamic library libcusolver.so.10.0\n",
      "2019-08-06 05:39:30.505138: I tensorflow/stream_executor/platform/default/dso_loader.cc:42] Successfully opened dynamic library libcusparse.so.10.0\n",
      "2019-08-06 05:39:30.508621: I tensorflow/stream_executor/platform/default/dso_loader.cc:42] Successfully opened dynamic library libcudnn.so.7\n",
      "2019-08-06 05:39:30.508715: I tensorflow/stream_executor/cuda/cuda_gpu_executor.cc:1005] successful NUMA node read from SysFS had negative value (-1), but there must be at least one NUMA node, so returning NUMA node zero\n",
      "2019-08-06 05:39:30.509599: I tensorflow/stream_executor/cuda/cuda_gpu_executor.cc:1005] successful NUMA node read from SysFS had negative value (-1), but there must be at least one NUMA node, so returning NUMA node zero\n",
      "2019-08-06 05:39:30.510472: I tensorflow/stream_executor/cuda/cuda_gpu_executor.cc:1005] successful NUMA node read from SysFS had negative value (-1), but there must be at least one NUMA node, so returning NUMA node zero\n",
      "2019-08-06 05:39:30.511256: I tensorflow/stream_executor/cuda/cuda_gpu_executor.cc:1005] successful NUMA node read from SysFS had negative value (-1), but there must be at least one NUMA node, so returning NUMA node zero\n",
      "2019-08-06 05:39:30.512086: I tensorflow/core/common_runtime/gpu/gpu_device.cc:1763] Adding visible gpu devices: 0, 1\n",
      "2019-08-06 05:39:30.512135: I tensorflow/stream_executor/platform/default/dso_loader.cc:42] Successfully opened dynamic library libcudart.so.10.0\n",
      "2019-08-06 05:39:30.514383: I tensorflow/core/common_runtime/gpu/gpu_device.cc:1181] Device interconnect StreamExecutor with strength 1 edge matrix:\n",
      "2019-08-06 05:39:30.514409: I tensorflow/core/common_runtime/gpu/gpu_device.cc:1187]      0 1 \n",
      "2019-08-06 05:39:30.514423: I tensorflow/core/common_runtime/gpu/gpu_device.cc:1200] 0:   N N \n",
      "2019-08-06 05:39:30.514434: I tensorflow/core/common_runtime/gpu/gpu_device.cc:1200] 1:   N N \n",
      "2019-08-06 05:39:30.514577: I tensorflow/stream_executor/cuda/cuda_gpu_executor.cc:1005] successful NUMA node read from SysFS had negative value (-1), but there must be at least one NUMA node, so returning NUMA node zero\n",
      "2019-08-06 05:39:30.515453: I tensorflow/stream_executor/cuda/cuda_gpu_executor.cc:1005] successful NUMA node read from SysFS had negative value (-1), but there must be at least one NUMA node, so returning NUMA node zero\n",
      "2019-08-06 05:39:30.516333: I tensorflow/stream_executor/cuda/cuda_gpu_executor.cc:1005] successful NUMA node read from SysFS had negative value (-1), but there must be at least one NUMA node, so returning NUMA node zero\n",
      "2019-08-06 05:39:30.517100: I tensorflow/core/common_runtime/gpu/gpu_device.cc:1326] Created TensorFlow device (/job:localhost/replica:0/task:0/device:GPU:0 with 15022 MB memory) -> physical GPU (device: 0, name: Tesla V100-PCIE-16GB, pci bus id: 0000:00:07.0, compute capability: 7.0)\n",
      "2019-08-06 05:39:30.517605: I tensorflow/stream_executor/cuda/cuda_gpu_executor.cc:1005] successful NUMA node read from SysFS had negative value (-1), but there must be at least one NUMA node, so returning NUMA node zero\n",
      "2019-08-06 05:39:30.518438: I tensorflow/core/common_runtime/gpu/gpu_device.cc:1326] Created TensorFlow device (/job:localhost/replica:0/task:0/device:GPU:1 with 15022 MB memory) -> physical GPU (device: 1, name: Tesla V100-PCIE-16GB, pci bus id: 0000:00:08.0, compute capability: 7.0)\n",
      "W0806 05:39:33.677569 140111219914496 deprecation_wrapper.py:119] From /opt/conda/lib/python3.6/site-packages/keras/optimizers.py:757: The name tf.train.Optimizer is deprecated. Please use tf.compat.v1.train.Optimizer instead.\n",
      "\n",
      "strawimage259.jpg\n",
      "2019-08-06 05:39:34.659533: I tensorflow/stream_executor/platform/default/dso_loader.cc:42] Successfully opened dynamic library libcudnn.so.7\n",
      "2019-08-06 05:39:37.271972: I tensorflow/stream_executor/platform/default/dso_loader.cc:42] Successfully opened dynamic library libcublas.so.10.0\n",
      "Elapsed time = 4.000047922134399\n",
      "[('unripe_strawberry', 99.9151349067688), ('unripe_strawberry', 93.90260577201843), ('ripe_strawberry', 99.6189534664154), ('ripe_strawberry', 99.56335425376892), ('ripe_strawberry', 95.80254554748535)]\n",
      "strawimage48.jpg\n",
      "Elapsed time = 0.8105158805847168\n",
      "[('unripe_strawberry', 99.83332753181458), ('unripe_strawberry', 99.5997428894043), ('unripe_strawberry', 99.30866360664368), ('unripe_strawberry', 99.11780953407288), ('unripe_strawberry', 98.20881485939026), ('unripe_strawberry', 92.2642171382904), ('unripe_strawberry', 91.66145324707031), ('unripe_strawberry', 87.88097500801086), ('unripe_strawberry', 83.21677446365356), ('ripe_strawberry', 100.0), ('ripe_strawberry', 99.99539852142334), ('ripe_strawberry', 93.10336112976074)]\n",
      "strawimage49.jpg\n",
      "Elapsed time = 0.7780866622924805\n",
      "[('ripe_strawberry', 100.0), ('ripe_strawberry', 99.92479681968689), ('unripe_strawberry', 99.29364323616028), ('unripe_strawberry', 85.8982264995575)]\n",
      "strawimage5.jpg\n",
      "Elapsed time = 0.9847133159637451\n",
      "[('unripe_strawberry', 99.99998807907104), ('unripe_strawberry', 99.99974966049194), ('unripe_strawberry', 99.9903678894043), ('unripe_strawberry', 98.29638004302979), ('unripe_strawberry', 98.23188185691833), ('unripe_strawberry', 95.51298022270203), ('unripe_strawberry', 87.64841556549072), ('unripe_strawberry', 87.34208345413208), ('unripe_strawberry', 83.1924557685852), ('ripe_strawberry', 99.99994039535522), ('ripe_strawberry', 99.99696016311646), ('ripe_strawberry', 99.99476671218872), ('ripe_strawberry', 99.45681095123291)]\n",
      "strawimage50.jpg\n",
      "Elapsed time = 0.30860137939453125\n",
      "[('unripe_strawberry', 99.99035596847534), ('unripe_strawberry', 91.2105917930603), ('unripe_strawberry', 87.8555178642273), ('ripe_strawberry', 99.99854564666748), ('ripe_strawberry', 99.98971223831177), ('ripe_strawberry', 96.5572714805603)]\n",
      "strawimage51.jpg\n",
      "Elapsed time = 1.1307086944580078\n",
      "[('ripe_strawberry', 99.99741315841675), ('ripe_strawberry', 89.94457721710205), ('unripe_strawberry', 99.99799728393555), ('unripe_strawberry', 99.73414540290833), ('unripe_strawberry', 99.69499707221985), ('unripe_strawberry', 99.59927201271057), ('unripe_strawberry', 97.25961685180664), ('unripe_strawberry', 91.61487817764282), ('unripe_strawberry', 87.88346648216248), ('unripe_strawberry', 86.04177236557007)]\n",
      "strawimage52.jpg\n",
      "Elapsed time = 0.3114936351776123\n",
      "[('ripe_strawberry', 100.0), ('ripe_strawberry', 100.0), ('ripe_strawberry', 99.99992847442627), ('ripe_strawberry', 99.99947547912598), ('ripe_strawberry', 99.86857771873474), ('unripe_strawberry', 99.99972581863403), ('unripe_strawberry', 99.99918937683105), ('unripe_strawberry', 99.99637603759766), ('unripe_strawberry', 99.98655319213867), ('unripe_strawberry', 99.95753169059753), ('unripe_strawberry', 99.9565064907074), ('unripe_strawberry', 99.00471568107605), ('unripe_strawberry', 87.99278140068054)]\n",
      "strawimage53.jpg\n",
      "Elapsed time = 0.8195230960845947\n",
      "[('unripe_strawberry', 99.99994039535522), ('unripe_strawberry', 99.99829530715942), ('unripe_strawberry', 99.99412298202515), ('unripe_strawberry', 99.99042749404907), ('unripe_strawberry', 99.41704869270325), ('unripe_strawberry', 98.08911681175232), ('unripe_strawberry', 95.1010525226593), ('ripe_strawberry', 99.99994039535522), ('ripe_strawberry', 99.99935626983643)]\n",
      "strawimage54.jpg\n",
      "Elapsed time = 0.32771944999694824\n",
      "[('ripe_strawberry', 100.0), ('ripe_strawberry', 99.99998807907104), ('ripe_strawberry', 99.99998807907104), ('ripe_strawberry', 99.99997615814209), ('ripe_strawberry', 99.99996423721313), ('ripe_strawberry', 99.99947547912598), ('ripe_strawberry', 99.96139407157898), ('ripe_strawberry', 99.90872144699097), ('ripe_strawberry', 99.82535243034363), ('ripe_strawberry', 98.73894453048706), ('ripe_strawberry', 96.3711142539978), ('ripe_strawberry', 95.03114223480225), ('unripe_strawberry', 99.99994039535522), ('unripe_strawberry', 99.99991655349731)]\n",
      "strawimage56.jpg\n",
      "Elapsed time = 0.8644590377807617\n",
      "[('ripe_strawberry', 99.99452829360962), ('ripe_strawberry', 99.9922513961792), ('ripe_strawberry', 99.97666478157043), ('ripe_strawberry', 99.71001744270325), ('ripe_strawberry', 99.70108270645142), ('ripe_strawberry', 99.67131614685059), ('ripe_strawberry', 99.54391121864319), ('ripe_strawberry', 99.4978129863739), ('unripe_strawberry', 99.90631937980652), ('unripe_strawberry', 98.3116090297699), ('unripe_strawberry', 94.39175128936768), ('unripe_strawberry', 92.65252947807312), ('unripe_strawberry', 90.0003731250763), ('unripe_strawberry', 89.16645646095276), ('unripe_strawberry', 88.37049603462219), ('unripe_strawberry', 83.06782245635986), ('unripe_strawberry', 81.66590332984924)]\n",
      "strawimage58.jpg\n",
      "Elapsed time = 0.3500649929046631\n",
      "[('ripe_strawberry', 100.0), ('ripe_strawberry', 100.0), ('ripe_strawberry', 99.99995231628418), ('ripe_strawberry', 99.99983310699463), ('ripe_strawberry', 99.99977350234985), ('ripe_strawberry', 99.99940395355225), ('ripe_strawberry', 99.99810457229614), ('ripe_strawberry', 99.99679327011108), ('ripe_strawberry', 99.99440908432007), ('ripe_strawberry', 99.98687505722046), ('ripe_strawberry', 99.98243451118469), ('ripe_strawberry', 92.17194318771362), ('unripe_strawberry', 99.99966621398926), ('unripe_strawberry', 83.775395154953)]\n",
      "strawimage59.jpg\n",
      "Elapsed time = 0.9033913612365723\n",
      "[('ripe_strawberry', 100.0), ('ripe_strawberry', 99.99779462814331), ('ripe_strawberry', 99.959796667099), ('ripe_strawberry', 99.65834021568298), ('ripe_strawberry', 98.38312864303589), ('ripe_strawberry', 95.667165517807), ('ripe_strawberry', 92.12966561317444), ('ripe_strawberry', 91.90757274627686), ('ripe_strawberry', 89.27831053733826), ('unripe_strawberry', 99.95954632759094), ('unripe_strawberry', 99.8188316822052), ('unripe_strawberry', 99.6125876903534), ('unripe_strawberry', 99.31649565696716), ('unripe_strawberry', 98.82891178131104), ('unripe_strawberry', 96.38702273368835), ('unripe_strawberry', 86.98133826255798), ('unripe_strawberry', 86.8298888206482), ('unripe_strawberry', 82.10090398788452)]\n",
      "strawimage6.jpg\n",
      "Elapsed time = 0.606163740158081\n",
      "[('ripe_strawberry', 99.99983310699463), ('ripe_strawberry', 99.99934434890747), ('ripe_strawberry', 99.98014569282532), ('ripe_strawberry', 86.70907616615295), ('unripe_strawberry', 99.98431205749512), ('unripe_strawberry', 99.95943903923035), ('unripe_strawberry', 99.74658489227295), ('unripe_strawberry', 98.30323457717896), ('unripe_strawberry', 96.6135561466217), ('unripe_strawberry', 84.21834111213684), ('unripe_strawberry', 80.04624843597412)]\n",
      "strawimage60.jpg\n",
      "Elapsed time = 0.3890345096588135\n",
      "[('ripe_strawberry', 99.99991655349731), ('ripe_strawberry', 99.99991655349731), ('ripe_strawberry', 99.99982118606567), ('ripe_strawberry', 99.95959401130676), ('ripe_strawberry', 99.7751533985138), ('ripe_strawberry', 98.3767032623291), ('ripe_strawberry', 90.80002903938293), ('unripe_strawberry', 99.92215633392334), ('unripe_strawberry', 99.5756208896637), ('unripe_strawberry', 85.03944277763367)]\n",
      "strawimage61.jpg\n",
      "Elapsed time = 0.32575511932373047\n",
      "[('ripe_strawberry', 100.0), ('ripe_strawberry', 99.9977707862854), ('ripe_strawberry', 99.99533891677856), ('ripe_strawberry', 99.98917579650879), ('ripe_strawberry', 97.21040725708008), ('unripe_strawberry', 99.99926090240479), ('unripe_strawberry', 99.99884366989136), ('unripe_strawberry', 99.98801946640015), ('unripe_strawberry', 99.97730851173401), ('unripe_strawberry', 99.95844960212708), ('unripe_strawberry', 99.7559666633606), ('unripe_strawberry', 99.70220923423767), ('unripe_strawberry', 97.9695200920105)]\n",
      "strawimage62.jpg\n",
      "Elapsed time = 0.38394641876220703\n",
      "[('ripe_strawberry', 100.0), ('ripe_strawberry', 99.99988079071045), ('unripe_strawberry', 99.99018907546997), ('unripe_strawberry', 99.7109591960907), ('unripe_strawberry', 99.40158128738403), ('unripe_strawberry', 98.93661737442017), ('unripe_strawberry', 85.4518473148346)]\n",
      "strawimage63.jpg\n",
      "Elapsed time = 0.45817041397094727\n",
      "[('unripe_strawberry', 99.99996423721313), ('unripe_strawberry', 99.99991655349731), ('unripe_strawberry', 99.9980092048645), ('unripe_strawberry', 97.73090481758118), ('ripe_strawberry', 100.0), ('ripe_strawberry', 99.99998807907104), ('ripe_strawberry', 99.99997615814209), ('ripe_strawberry', 99.99991655349731), ('ripe_strawberry', 99.9997615814209), ('ripe_strawberry', 99.99953508377075), ('ripe_strawberry', 99.99932050704956), ('ripe_strawberry', 99.99662637710571)]\n",
      "strawimage64.jpg\n",
      "Elapsed time = 0.8874795436859131\n",
      "[('ripe_strawberry', 99.9998927116394), ('ripe_strawberry', 99.94750618934631), ('ripe_strawberry', 99.46499466896057), ('ripe_strawberry', 99.28892850875854), ('ripe_strawberry', 98.770672082901), ('ripe_strawberry', 86.67207360267639), ('unripe_strawberry', 99.99860525131226), ('unripe_strawberry', 99.94038343429565), ('unripe_strawberry', 95.60695886611938), ('unripe_strawberry', 85.63125133514404)]\n",
      "strawimage65.jpg\n",
      "Elapsed time = 1.0174689292907715\n",
      "[('ripe_strawberry', 100.0), ('ripe_strawberry', 100.0), ('ripe_strawberry', 100.0), ('ripe_strawberry', 99.99997615814209), ('unripe_strawberry', 99.91474151611328), ('unripe_strawberry', 99.43981766700745), ('unripe_strawberry', 98.35836291313171), ('unripe_strawberry', 83.04330706596375)]\n",
      "strawimage66.jpg\n",
      "Elapsed time = 0.7664153575897217\n",
      "[('ripe_strawberry', 99.99780654907227), ('ripe_strawberry', 99.9972939491272), ('ripe_strawberry', 95.5432116985321), ('unripe_strawberry', 90.66895246505737)]\n",
      "strawimage67.jpg\n",
      "Elapsed time = 0.3195457458496094\n",
      "[('ripe_strawberry', 99.99990463256836), ('ripe_strawberry', 99.98922348022461), ('ripe_strawberry', 99.98538494110107), ('ripe_strawberry', 99.9750554561615), ('unripe_strawberry', 99.97798800468445), ('unripe_strawberry', 99.92259740829468), ('unripe_strawberry', 99.58849549293518), ('unripe_strawberry', 98.6009418964386), ('unripe_strawberry', 95.02339959144592), ('unripe_strawberry', 94.60440874099731), ('unripe_strawberry', 86.14966869354248)]\n",
      "strawimage68.jpg\n",
      "Elapsed time = 0.3904094696044922\n",
      "[('ripe_strawberry', 99.99995231628418), ('ripe_strawberry', 99.99992847442627), ('ripe_strawberry', 99.99990463256836), ('ripe_strawberry', 99.99927282333374), ('ripe_strawberry', 99.99923706054688), ('ripe_strawberry', 99.99310970306396), ('ripe_strawberry', 99.97355341911316), ('ripe_strawberry', 99.9727189540863), ('ripe_strawberry', 99.94649291038513), ('ripe_strawberry', 99.90484118461609), ('ripe_strawberry', 99.84244108200073), ('ripe_strawberry', 99.83512163162231), ('ripe_strawberry', 99.8011827468872), ('ripe_strawberry', 99.73270893096924), ('ripe_strawberry', 99.70619082450867), ('ripe_strawberry', 99.43660497665405), ('ripe_strawberry', 99.0727186203003), ('ripe_strawberry', 98.71455430984497), ('ripe_strawberry', 98.45659136772156), ('ripe_strawberry', 96.11318707466125), ('ripe_strawberry', 95.84757089614868), ('ripe_strawberry', 95.63521146774292), ('ripe_strawberry', 93.43917965888977), ('ripe_strawberry', 90.84466099739075), ('ripe_strawberry', 82.27790594100952), ('unripe_strawberry', 99.94828701019287), ('unripe_strawberry', 99.37699437141418), ('unripe_strawberry', 99.34657216072083), ('unripe_strawberry', 96.34757041931152), ('unripe_strawberry', 95.56122422218323), ('unripe_strawberry', 92.81827211380005)]\n",
      "strawimage7.jpg\n",
      "Elapsed time = 0.9119889736175537\n",
      "[('unripe_strawberry', 99.57079887390137), ('unripe_strawberry', 99.5229959487915), ('unripe_strawberry', 98.42612743377686), ('unripe_strawberry', 94.54594850540161), ('unripe_strawberry', 93.71280670166016), ('unripe_strawberry', 85.64808368682861), ('unripe_strawberry', 83.72551798820496), ('unripe_strawberry', 80.13904094696045), ('ripe_strawberry', 100.0)]\n",
      "strawimage70.jpg\n",
      "Elapsed time = 0.7489330768585205\n",
      "[('ripe_strawberry', 100.0), ('ripe_strawberry', 100.0), ('ripe_strawberry', 100.0)]\n",
      "strawimage71.jpg\n",
      "Elapsed time = 0.3901944160461426\n",
      "[('ripe_strawberry', 100.0), ('ripe_strawberry', 99.99996423721313), ('ripe_strawberry', 99.99994039535522), ('unripe_strawberry', 99.99997615814209), ('unripe_strawberry', 99.99996423721313), ('unripe_strawberry', 99.99974966049194), ('unripe_strawberry', 98.10342192649841)]\n",
      "strawimage72.jpg\n",
      "Elapsed time = 0.6646218299865723\n",
      "[('unripe_strawberry', 99.99997615814209), ('unripe_strawberry', 99.99978542327881), ('unripe_strawberry', 99.99823570251465), ('unripe_strawberry', 99.99008178710938), ('unripe_strawberry', 99.98093247413635), ('unripe_strawberry', 99.7012734413147), ('unripe_strawberry', 99.70071911811829), ('unripe_strawberry', 99.5867133140564), ('unripe_strawberry', 99.19435977935791), ('unripe_strawberry', 98.29127788543701), ('unripe_strawberry', 92.48800277709961), ('ripe_strawberry', 99.99992847442627), ('ripe_strawberry', 99.99990463256836), ('ripe_strawberry', 99.99982118606567), ('ripe_strawberry', 99.99970197677612)]\n",
      "strawimage73.jpg\n",
      "Elapsed time = 0.44141387939453125\n",
      "[('unripe_strawberry', 98.02643060684204), ('unripe_strawberry', 94.41088438034058), ('unripe_strawberry', 92.2377347946167)]\n",
      "strawimage74.jpg\n",
      "Elapsed time = 0.9042575359344482\n",
      "[('ripe_strawberry', 100.0), ('ripe_strawberry', 99.99998807907104), ('ripe_strawberry', 99.89618062973022), ('unripe_strawberry', 99.99994039535522), ('unripe_strawberry', 99.9998688697815), ('unripe_strawberry', 93.5623049736023), ('unripe_strawberry', 90.82598686218262)]\n",
      "strawimage75.jpg\n",
      "Elapsed time = 0.4407658576965332\n",
      "[('ripe_strawberry', 99.99991655349731), ('unripe_strawberry', 99.9930739402771), ('unripe_strawberry', 96.05953097343445), ('unripe_strawberry', 87.31376528739929), ('unripe_strawberry', 82.78214931488037)]\n",
      "strawimage76.jpg\n",
      "Elapsed time = 1.1153995990753174\n",
      "[('unripe_strawberry', 99.99997615814209), ('unripe_strawberry', 99.9987244606018), ('unripe_strawberry', 99.99475479125977), ('unripe_strawberry', 99.99247789382935), ('unripe_strawberry', 99.96343851089478), ('unripe_strawberry', 99.95318651199341), ('unripe_strawberry', 99.8993456363678), ('unripe_strawberry', 99.67557787895203), ('unripe_strawberry', 98.45768809318542), ('unripe_strawberry', 90.3768539428711), ('ripe_strawberry', 99.99997615814209), ('ripe_strawberry', 99.9998688697815), ('ripe_strawberry', 99.99865293502808), ('ripe_strawberry', 99.99203681945801), ('ripe_strawberry', 99.98576641082764), ('ripe_strawberry', 99.97089505195618), ('ripe_strawberry', 99.88493919372559), ('ripe_strawberry', 99.87200498580933), ('ripe_strawberry', 99.75647926330566), ('ripe_strawberry', 93.54128241539001), ('ripe_strawberry', 80.01210689544678)]\n",
      "strawimage77.jpg\n",
      "Elapsed time = 0.6655454635620117\n",
      "[('ripe_strawberry', 100.0), ('ripe_strawberry', 99.99998807907104), ('ripe_strawberry', 99.99994039535522), ('ripe_strawberry', 99.9998688697815), ('ripe_strawberry', 99.99949932098389), ('ripe_strawberry', 99.99885559082031), ('ripe_strawberry', 99.99867677688599), ('ripe_strawberry', 99.98613595962524), ('ripe_strawberry', 99.97431635856628), ('ripe_strawberry', 99.9695897102356), ('ripe_strawberry', 99.81446266174316), ('ripe_strawberry', 99.70605969429016), ('ripe_strawberry', 99.62775111198425), ('ripe_strawberry', 99.48550462722778), ('ripe_strawberry', 95.27169466018677), ('ripe_strawberry', 93.72227787971497), ('unripe_strawberry', 99.99386072158813), ('unripe_strawberry', 99.73019361495972), ('unripe_strawberry', 99.55344200134277), ('unripe_strawberry', 99.47702288627625), ('unripe_strawberry', 97.1375584602356), ('unripe_strawberry', 95.08283734321594), ('unripe_strawberry', 90.91546535491943), ('unripe_strawberry', 90.39528965950012), ('unripe_strawberry', 84.32972431182861), ('unripe_strawberry', 81.79590702056885)]\n",
      "strawimage78.jpg\n",
      "Elapsed time = 0.9280421733856201\n",
      "[('unripe_strawberry', 99.99990463256836), ('unripe_strawberry', 99.99685287475586), ('ripe_strawberry', 99.99275207519531), ('ripe_strawberry', 99.97530579566956)]\n",
      "strawimage79.jpg\n",
      "Elapsed time = 0.46256160736083984\n",
      "[('ripe_strawberry', 100.0), ('ripe_strawberry', 100.0), ('ripe_strawberry', 99.99995231628418), ('ripe_strawberry', 99.9998927116394), ('ripe_strawberry', 99.97872710227966), ('ripe_strawberry', 99.87549781799316), ('ripe_strawberry', 92.54387617111206), ('ripe_strawberry', 91.49749279022217), ('ripe_strawberry', 86.52441501617432), ('unripe_strawberry', 99.9998688697815), ('unripe_strawberry', 99.98711347579956), ('unripe_strawberry', 95.55794596672058), ('unripe_strawberry', 94.06381249427795)]\n",
      "strawimage8.jpg\n",
      "Elapsed time = 0.6426007747650146\n",
      "[('unripe_strawberry', 99.97218251228333), ('unripe_strawberry', 99.96293783187866), ('unripe_strawberry', 99.9279797077179), ('unripe_strawberry', 99.89044666290283), ('unripe_strawberry', 99.84415173530579), ('unripe_strawberry', 99.83342289924622), ('unripe_strawberry', 99.66699481010437), ('unripe_strawberry', 99.54836368560791), ('unripe_strawberry', 98.71642589569092), ('unripe_strawberry', 98.60249161720276), ('unripe_strawberry', 98.48901629447937), ('unripe_strawberry', 94.65115070343018), ('unripe_strawberry', 94.64909434318542), ('unripe_strawberry', 94.02456879615784), ('unripe_strawberry', 91.38798117637634), ('unripe_strawberry', 83.50047469139099), ('unripe_strawberry', 80.6981086730957), ('ripe_strawberry', 99.98725652694702), ('ripe_strawberry', 99.98407363891602), ('ripe_strawberry', 99.53598380088806), ('ripe_strawberry', 98.74132871627808), ('ripe_strawberry', 85.8860731124878)]\n",
      "strawimage80.jpg\n",
      "Elapsed time = 0.6419785022735596\n",
      "[('ripe_strawberry', 100.0), ('ripe_strawberry', 99.99985694885254), ('ripe_strawberry', 99.99897480010986), ('ripe_strawberry', 99.99783039093018), ('ripe_strawberry', 99.99607801437378), ('ripe_strawberry', 99.99520778656006), ('ripe_strawberry', 99.99160766601562), ('ripe_strawberry', 99.97246861457825), ('ripe_strawberry', 99.93614554405212), ('ripe_strawberry', 99.87640380859375), ('ripe_strawberry', 99.87057447433472), ('ripe_strawberry', 99.45036172866821), ('ripe_strawberry', 99.05019998550415), ('ripe_strawberry', 88.06923627853394), ('unripe_strawberry', 93.23895573616028), ('unripe_strawberry', 85.25460362434387)]\n",
      "strawimage81.jpg\n",
      "Elapsed time = 1.0019235610961914\n",
      "[('unripe_strawberry', 99.69431757926941), ('unripe_strawberry', 85.22574305534363), ('unripe_strawberry', 81.4603865146637), ('unripe_strawberry', 81.16092085838318)]\n",
      "strawimage82.jpg\n",
      "Elapsed time = 1.018864393234253\n",
      "[('unripe_strawberry', 99.99653100967407), ('unripe_strawberry', 99.98855590820312), ('unripe_strawberry', 99.9523401260376), ('unripe_strawberry', 99.83830451965332), ('unripe_strawberry', 99.62452054023743), ('unripe_strawberry', 99.56914782524109), ('unripe_strawberry', 99.25526976585388), ('unripe_strawberry', 98.61154556274414), ('unripe_strawberry', 97.212153673172), ('unripe_strawberry', 94.85169649124146), ('unripe_strawberry', 92.93021559715271), ('unripe_strawberry', 91.38951301574707), ('unripe_strawberry', 88.38295340538025), ('unripe_strawberry', 84.26821827888489), ('ripe_strawberry', 99.99996423721313), ('ripe_strawberry', 99.99724626541138), ('ripe_strawberry', 99.99178647994995)]\n",
      "strawimage83.jpg\n",
      "Elapsed time = 0.41498255729675293\n",
      "[('unripe_strawberry', 99.91148114204407), ('unripe_strawberry', 99.908447265625), ('unripe_strawberry', 99.8633325099945), ('unripe_strawberry', 99.3756651878357), ('unripe_strawberry', 98.60711693763733), ('unripe_strawberry', 86.72372102737427), ('unripe_strawberry', 84.90567803382874), ('unripe_strawberry', 84.6327543258667), ('unripe_strawberry', 83.9717149734497), ('unripe_strawberry', 82.11543560028076), ('unripe_strawberry', 81.83580040931702), ('ripe_strawberry', 99.99992847442627), ('ripe_strawberry', 99.99982118606567), ('ripe_strawberry', 99.99696016311646), ('ripe_strawberry', 99.98078942298889), ('ripe_strawberry', 98.50956797599792), ('ripe_strawberry', 92.56462454795837), ('ripe_strawberry', 92.46902465820312)]\n",
      "strawimage85.jpg\n",
      "Elapsed time = 0.3167691230773926\n",
      "[('ripe_strawberry', 99.99998807907104), ('ripe_strawberry', 99.99971389770508), ('ripe_strawberry', 99.9804675579071), ('ripe_strawberry', 99.65040683746338), ('unripe_strawberry', 100.0), ('unripe_strawberry', 99.99929666519165), ('unripe_strawberry', 99.8288094997406), ('unripe_strawberry', 96.26444578170776), ('unripe_strawberry', 92.39051342010498), ('unripe_strawberry', 81.70053958892822)]\n",
      "strawimage86.jpg\n",
      "Elapsed time = 1.2683680057525635\n",
      "[('ripe_strawberry', 99.99759197235107), ('ripe_strawberry', 99.99083280563354), ('ripe_strawberry', 99.85185265541077), ('ripe_strawberry', 99.62413311004639), ('ripe_strawberry', 97.98645973205566), ('ripe_strawberry', 97.73440957069397), ('ripe_strawberry', 96.15118503570557), ('unripe_strawberry', 99.9617338180542), ('unripe_strawberry', 99.68196153640747), ('unripe_strawberry', 99.37431216239929), ('unripe_strawberry', 99.17421340942383), ('unripe_strawberry', 98.25038313865662), ('unripe_strawberry', 96.74734473228455), ('unripe_strawberry', 91.89252853393555), ('unripe_strawberry', 91.65828824043274), ('unripe_strawberry', 91.50526523590088), ('unripe_strawberry', 90.71151614189148)]\n",
      "strawimage87.jpg\n",
      "Elapsed time = 0.37792372703552246\n",
      "[('ripe_strawberry', 100.0), ('ripe_strawberry', 99.99992847442627), ('ripe_strawberry', 91.56584739685059), ('ripe_strawberry', 87.99969553947449), ('unripe_strawberry', 99.99964237213135), ('unripe_strawberry', 99.99637603759766), ('unripe_strawberry', 99.99563694000244), ('unripe_strawberry', 89.30355310440063)]\n",
      "strawimage88.jpg\n",
      "Elapsed time = 0.8109209537506104\n",
      "[('unripe_strawberry', 99.99967813491821), ('unripe_strawberry', 99.99830722808838), ('unripe_strawberry', 99.9979019165039), ('unripe_strawberry', 99.99727010726929), ('unripe_strawberry', 99.99285936355591), ('unripe_strawberry', 99.0396499633789), ('unripe_strawberry', 94.93382573127747), ('unripe_strawberry', 91.83216094970703), ('unripe_strawberry', 89.39182162284851), ('ripe_strawberry', 100.0), ('ripe_strawberry', 99.99991655349731), ('ripe_strawberry', 99.99582767486572), ('ripe_strawberry', 99.9599039554596), ('ripe_strawberry', 96.3720440864563)]\n",
      "strawimage89.jpg\n",
      "Elapsed time = 0.8033549785614014\n",
      "[('ripe_strawberry', 100.0), ('ripe_strawberry', 99.99997615814209), ('ripe_strawberry', 99.99988079071045), ('ripe_strawberry', 99.99972581863403), ('ripe_strawberry', 99.9990701675415), ('ripe_strawberry', 99.57112073898315), ('ripe_strawberry', 98.42752814292908), ('ripe_strawberry', 91.72123670578003), ('ripe_strawberry', 90.27248024940491), ('unripe_strawberry', 99.99867677688599), ('unripe_strawberry', 99.98294115066528), ('unripe_strawberry', 99.83391761779785), ('unripe_strawberry', 99.53773021697998), ('unripe_strawberry', 98.86998534202576), ('unripe_strawberry', 98.38792681694031), ('unripe_strawberry', 86.73080801963806)]\n",
      "strawimage9.jpg\n",
      "Elapsed time = 0.9316012859344482\n",
      "[('unripe_strawberry', 99.99369382858276), ('unripe_strawberry', 99.94708895683289), ('unripe_strawberry', 99.91775155067444), ('unripe_strawberry', 99.87674951553345), ('unripe_strawberry', 97.36340641975403), ('unripe_strawberry', 96.4006245136261), ('unripe_strawberry', 95.69153785705566), ('unripe_strawberry', 95.24684548377991), ('unripe_strawberry', 84.63065028190613), ('ripe_strawberry', 100.0), ('ripe_strawberry', 99.79372024536133), ('ripe_strawberry', 98.81934523582458), ('ripe_strawberry', 97.78213500976562), ('ripe_strawberry', 86.03518605232239)]\n",
      "strawimage90.jpg\n",
      "Elapsed time = 0.3966991901397705\n",
      "[('unripe_strawberry', 99.91683959960938), ('unripe_strawberry', 99.91200566291809), ('unripe_strawberry', 99.89147186279297), ('unripe_strawberry', 98.54631423950195), ('unripe_strawberry', 96.44932746887207), ('unripe_strawberry', 93.86256337165833), ('unripe_strawberry', 92.07676649093628), ('unripe_strawberry', 90.97709655761719), ('ripe_strawberry', 99.99988079071045), ('ripe_strawberry', 99.99889135360718), ('ripe_strawberry', 99.99445676803589), ('ripe_strawberry', 99.99126195907593), ('ripe_strawberry', 99.92977380752563), ('ripe_strawberry', 99.74132180213928), ('ripe_strawberry', 99.58322644233704), ('ripe_strawberry', 98.01480770111084), ('ripe_strawberry', 97.52192497253418), ('ripe_strawberry', 86.79547309875488), ('ripe_strawberry', 80.16462922096252)]\n",
      "strawimage91.jpg\n",
      "Elapsed time = 0.9797008037567139\n",
      "[('unripe_strawberry', 99.97182488441467), ('unripe_strawberry', 99.77679252624512), ('unripe_strawberry', 87.8507673740387), ('ripe_strawberry', 100.0), ('ripe_strawberry', 99.93807077407837), ('ripe_strawberry', 99.83444213867188)]\n",
      "strawimage92.jpg\n",
      "Elapsed time = 0.7240152359008789\n",
      "[('ripe_strawberry', 99.99967813491821), ('ripe_strawberry', 99.88158941268921), ('ripe_strawberry', 94.76582407951355), ('unripe_strawberry', 99.99970197677612), ('unripe_strawberry', 99.99701976776123), ('unripe_strawberry', 97.850501537323)]\n",
      "strawimage93.jpg\n",
      "Elapsed time = 0.3119950294494629\n",
      "[('unripe_strawberry', 99.99983310699463), ('ripe_strawberry', 100.0), ('ripe_strawberry', 99.99998807907104), ('ripe_strawberry', 99.99998807907104), ('ripe_strawberry', 99.996817111969)]\n",
      "strawimage94.jpg\n",
      "Elapsed time = 0.6386539936065674\n",
      "[('unripe_strawberry', 99.98161196708679), ('unripe_strawberry', 99.79561567306519), ('unripe_strawberry', 99.57274198532104), ('unripe_strawberry', 97.25125432014465), ('unripe_strawberry', 95.78863978385925), ('unripe_strawberry', 92.90173053741455), ('unripe_strawberry', 92.15143918991089), ('unripe_strawberry', 80.01458048820496), ('ripe_strawberry', 100.0), ('ripe_strawberry', 100.0), ('ripe_strawberry', 99.99716281890869), ('ripe_strawberry', 99.98699426651001), ('ripe_strawberry', 99.92576241493225)]\n",
      "strawimage95.jpg\n",
      "Elapsed time = 0.41504788398742676\n",
      "[('ripe_strawberry', 100.0), ('ripe_strawberry', 100.0), ('ripe_strawberry', 100.0), ('ripe_strawberry', 99.99997615814209), ('ripe_strawberry', 99.99997615814209), ('ripe_strawberry', 99.99983310699463), ('ripe_strawberry', 99.97743964195251), ('ripe_strawberry', 99.89094734191895), ('ripe_strawberry', 98.09101223945618), ('ripe_strawberry', 97.83775210380554), ('ripe_strawberry', 94.91937756538391), ('ripe_strawberry', 93.54694485664368)]\n",
      "strawimage96.jpg\n",
      "Elapsed time = 0.9506998062133789\n",
      "[('ripe_strawberry', 99.99978542327881), ('ripe_strawberry', 99.99939203262329), ('ripe_strawberry', 99.83794689178467), ('ripe_strawberry', 97.38768339157104), ('unripe_strawberry', 99.84806180000305), ('unripe_strawberry', 88.51368427276611), ('unripe_strawberry', 85.91404557228088), ('unripe_strawberry', 84.0131402015686)]\n",
      "strawimage97.jpg\n",
      "Elapsed time = 0.44298219680786133\n",
      "[('ripe_strawberry', 100.0), ('ripe_strawberry', 99.99992847442627), ('ripe_strawberry', 99.99980926513672), ('ripe_strawberry', 99.99943971633911), ('ripe_strawberry', 99.99592304229736), ('ripe_strawberry', 93.02974343299866), ('unripe_strawberry', 81.912761926651)]\n"
     ]
    }
   ],
   "source": [
    "!python test_frcnn_iou.py -p TestData/images --input_weight_path 2v100model_frcnn-epoch1090.hdf5"
   ]
  },
  {
   "cell_type": "code",
   "execution_count": 108,
   "metadata": {
    "scrolled": false
   },
   "outputs": [],
   "source": [
    "with open('test_pred_boxes.pickle', 'rb') as f:\n",
    "    pred_boxes = pickle.load(f)\n",
    "with open('test_times.pickle', 'rb') as f:\n",
    "    times = pickle.load(f)"
   ]
  },
  {
   "cell_type": "code",
   "execution_count": 4,
   "metadata": {
    "scrolled": true
   },
   "outputs": [],
   "source": [
    "PATH = 'TestData/annotations'\n",
    "actual = {}\n",
    "for f in os.listdir(PATH):\n",
    "    if f[-4:] != '.xml':\n",
    "        continue\n",
    "    actual[f[:-4]] = []\n",
    "    for tag in ET.parse(PATH + '/' + f).getroot().findall('object'):\n",
    "        # (x1, y1, x2, y2, label, prob)\n",
    "        actual[f[:-4]].append(tuple(\n",
    "            [int(v.text) for v in tag.find('bndbox')] + [tag.find('name').text]\n",
    "        ))"
   ]
  },
  {
   "cell_type": "code",
   "execution_count": 5,
   "metadata": {},
   "outputs": [],
   "source": [
    "def get_iou(box1, box2, epsilon):\n",
    "    '''\n",
    "    Calculates intersection over union given two boxes of the form\n",
    "    [x1, y1, x2, y2]. epsilon prevents divide by zero.\n",
    "    '''\n",
    "    x1 = max(box1[0], box2[0])\n",
    "    y1 = max(box1[1], box2[1])\n",
    "    x2 = min(box1[2], box2[2])\n",
    "    y2 = min(box1[3], box2[3])\n",
    "\n",
    "    intersection = max(0, x2 - x1) * max(0, y2 - y1)\n",
    "    union = (box1[2] - box1[0])*(box1[3] - box1[1]) + \\\n",
    "        (box2[2] - box2[0])*(box2[3] - box2[1]) - intersection\n",
    "    \n",
    "    return intersection / (union + epsilon)"
   ]
  },
  {
   "cell_type": "code",
   "execution_count": 6,
   "metadata": {},
   "outputs": [
    {
     "name": "stdout",
     "output_type": "stream",
     "text": [
      "0.25\n",
      "0.25\n",
      "0.0\n",
      "1.0\n"
     ]
    }
   ],
   "source": [
    "# Unit tests. Because the inner SWE thinks I should.\n",
    "for box1, box2 in [\n",
    "    [[0,0,1,1], [0,0,.5,.5]], # 0.25\n",
    "    [[0,0,.5,.5], [0,0,1,1]], # 0.25\n",
    "    [[0,0,1,1], [1,1,2,2]], # 0.0\n",
    "    [[0,0,1,1],[0,0,1,1]] # 1.0\n",
    "]:\n",
    "    print(get_iou(box1, box2, 1e-16))"
   ]
  },
  {
   "cell_type": "code",
   "execution_count": 109,
   "metadata": {},
   "outputs": [],
   "source": [
    "class Result:\n",
    "    def __init__(self, img_name, actual_box, actual_cls, pred_box, pred_cls, iou, prob):\n",
    "        self.img_name = img_name\n",
    "        self.actual_box = actual_box\n",
    "        self.actual_cls = actual_cls\n",
    "        self.pred_box = pred_box\n",
    "        self.pred_cls = pred_cls\n",
    "        self.iou = iou\n",
    "        self.prob = prob\n",
    "    def __repr__(self):\n",
    "        return 'Result({})'.format(vars(self))"
   ]
  },
  {
   "cell_type": "code",
   "execution_count": 8,
   "metadata": {},
   "outputs": [],
   "source": [
    "class ImageResult:\n",
    "    def __init__(\n",
    "        self,\n",
    "        img_name,\n",
    "        img_shape=None,\n",
    "        test_time=0,\n",
    "        actual_boxes=0,\n",
    "        pred_boxes=0,\n",
    "        missing=0,\n",
    "        added=0,\n",
    "        total=0):\n",
    "        \n",
    "        self.img_name = img_name\n",
    "        self.img_shape = img_shape\n",
    "        self.test_time = test_time\n",
    "        self.actual_boxes = actual_boxes\n",
    "        self.pred_boxes = pred_boxes\n",
    "        # missing is not necessarily actual - pred because some predicted are wrong\n",
    "        self.missing = missing\n",
    "        self.added = added\n",
    "        self.total = total\n",
    "    def __repr__(self):\n",
    "        return 'ImageResult({})'.format(vars(self))"
   ]
  },
  {
   "cell_type": "code",
   "execution_count": 22,
   "metadata": {},
   "outputs": [],
   "source": [
    "# For true positive, false positive, true negative, false negative\n",
    "class LabelResult:\n",
    "    def __init__(self, label, tp=0, fp=0, tn=0, fn=0):\n",
    "        self.label = label\n",
    "        self.tp = tp\n",
    "        self.fp = fp\n",
    "        self.tn = tn\n",
    "        self.fn = fn"
   ]
  },
  {
   "cell_type": "markdown",
   "metadata": {},
   "source": [
    "## Algorithm for Scoring Results\n",
    "1. Calculate IOU for each pair of boxes in the actual set and predicted set.\n",
    "2. Insert the tuple of `(IOU, box1, box2)` into a max heap\n",
    "3. Continuously pop off tuples until either the heap is empty (probably never) or the top score is below the threshold.\n",
    "5. ????\n",
    "6. Profit"
   ]
  },
  {
   "cell_type": "code",
   "execution_count": 111,
   "metadata": {
    "scrolled": true
   },
   "outputs": [],
   "source": [
    "results = []\n",
    "\n",
    "# threshold for two boxes to be considered the \"same\"\n",
    "iou_threshold = 0.5\n",
    "for f in actual:\n",
    "    s1, s2 = set(actual[f]), set(pred_boxes[f])\n",
    "    \n",
    "    # Max heap so first element is negative\n",
    "    heap = [(-get_iou(b1[:4], b2[:4], 1e-16), b1, b2) for b1 in s1 for b2 in s2]\n",
    "    heapq.heapify(heap)\n",
    "    \n",
    "    while heap and heap[0][0] < -iou_threshold:\n",
    "        iou, b1, b2 = heapq.heappop(heap)\n",
    "        if b1 in s1 and b2 in s2:\n",
    "            results.append(Result(f, b1[:4], b1[4], b2[:4], b2[4], -iou, b2[5]))\n",
    "            s1.remove(b1)\n",
    "            s2.remove(b2)\n",
    "        if not s1 or not s2:\n",
    "            # Early break if we run out\n",
    "            break\n",
    "    \n",
    "    while s1:\n",
    "        b1 = s1.pop()\n",
    "        results.append(Result(f, b1[:4], b1[4], None, None, None, None))\n",
    "    while s2:\n",
    "        b2 = s2.pop()\n",
    "        results.append(Result(f, None, None, b2[:4], b2[4], None, None))"
   ]
  },
  {
   "cell_type": "markdown",
   "metadata": {},
   "source": [
    "## ROC AUC (no penalty for missing box)"
   ]
  },
  {
   "cell_type": "code",
   "execution_count": 131,
   "metadata": {},
   "outputs": [],
   "source": [
    "y_test = []\n",
    "probs = []\n",
    "\n",
    "for r in results:\n",
    "    if r.actual_cls is None or r.pred_cls is None:\n",
    "        continue\n",
    "    if r.actual_cls == 'ripe_strawberry':\n",
    "        y_test.append(1)\n",
    "        probs.append(r.prob if r.pred_cls == 'ripe_strawberry' else 1 - r.prob)\n",
    "    else:\n",
    "        y_test.append(0)\n",
    "        probs.append(r.prob if r.pred_cls == 'ripe_strawberry' else 1 - r.prob)"
   ]
  },
  {
   "cell_type": "code",
   "execution_count": 132,
   "metadata": {},
   "outputs": [
    {
     "data": {
      "text/plain": [
       "0.9981078524124881"
      ]
     },
     "execution_count": 132,
     "metadata": {},
     "output_type": "execute_result"
    }
   ],
   "source": [
    "roc_auc_score(y_test, probs)"
   ]
  },
  {
   "cell_type": "code",
   "execution_count": 133,
   "metadata": {},
   "outputs": [],
   "source": [
    "fpr, tpr, thresholds = roc_curve(y_test, probs)"
   ]
  },
  {
   "cell_type": "code",
   "execution_count": 134,
   "metadata": {
    "scrolled": false
   },
   "outputs": [
    {
     "data": {
      "image/png": "[encoded data removed]",
      "text/plain": [
       "<Figure size 576x432 with 1 Axes>"
      ]
     },
     "metadata": {
      "needs_background": "light"
     },
     "output_type": "display_data"
    }
   ],
   "source": [
    "plt.figure(figsize=(8,6))\n",
    "plt.plot(fpr, tpr, marker='.')\n",
    "plt.title('ROC (only predicted strawberries)')\n",
    "plt.xlabel('False Positive Rate')\n",
    "plt.ylabel('True Positive Rate')\n",
    "plt.grid()"
   ]
  },
  {
   "cell_type": "markdown",
   "metadata": {},
   "source": [
    "## Inference Time"
   ]
  },
  {
   "cell_type": "code",
   "execution_count": 11,
   "metadata": {
    "scrolled": true
   },
   "outputs": [
    {
     "data": {
      "text/plain": [
       "'Average inference time: 0.7346933346528274 s'"
      ]
     },
     "execution_count": 11,
     "metadata": {},
     "output_type": "execute_result"
    }
   ],
   "source": [
    "'Average inference time: {} s'.format(np.mean(list(times.values())))"
   ]
  },
  {
   "cell_type": "code",
   "execution_count": 46,
   "metadata": {},
   "outputs": [
    {
     "name": "stdout",
     "output_type": "stream",
     "text": [
      "Mean intersection over union: 0.746629092880757\n"
     ]
    }
   ],
   "source": [
    "print('Mean intersection over union: {}'.format(np.mean([r.iou for r in results if r.iou is not None])))"
   ]
  },
  {
   "cell_type": "code",
   "execution_count": 13,
   "metadata": {},
   "outputs": [],
   "source": [
    "img_shapes = {}\n",
    "IMAGE_PATH = 'TestData/images/'\n",
    "for f in os.listdir(IMAGE_PATH):\n",
    "    if f.endswith('.jpg'):\n",
    "        img_shapes[f] = utils.read_image(IMAGE_PATH + f).shape"
   ]
  },
  {
   "cell_type": "code",
   "execution_count": 65,
   "metadata": {},
   "outputs": [],
   "source": [
    "img_results = {}\n",
    "for r in results:\n",
    "    img_name = r.img_name + '.jpg'\n",
    "    if img_name not in img_results:\n",
    "        img_results[img_name] = ir = ImageResult(img_name)\n",
    "    \n",
    "    ir.img_shape = img_shapes[img_name]\n",
    "    ir.test_time = times[img_name[:-4]]\n",
    "    ir.actual_boxes += int(r.actual_box is not None)\n",
    "    ir.pred_boxes += int(r.pred_box is not None)\n",
    "    ir.missing += int(r.pred_box is None)\n",
    "    ir.added += int(r.actual_box is None)\n",
    "    ir.total += 1\n",
    "    "
   ]
  },
  {
   "cell_type": "code",
   "execution_count": 99,
   "metadata": {},
   "outputs": [],
   "source": [
    "t = []\n",
    "pixels = []\n",
    "n_actual = []\n",
    "n_pred = []\n",
    "\n",
    "for f in times:\n",
    "    name = f+'.jpg'\n",
    "    if name not in img_results:\n",
    "        continue\n",
    "    t.append(times[f])\n",
    "    pixels.append(np.prod(img_results[name].img_shape))\n",
    "    n_actual.append(img_results[name].actual_boxes)\n",
    "    n_pred.append(img_results[name].pred_boxes)\n",
    "\n",
    "pixels = np.array(pixels)\n",
    "n_actual = np.array(n_actual)\n",
    "n_pred = np.array(n_pred)"
   ]
  },
  {
   "cell_type": "code",
   "execution_count": 100,
   "metadata": {
    "scrolled": false
   },
   "outputs": [
    {
     "data": {
      "image/png": "[encoded data removed]",
      "text/plain": [
       "<Figure size 576x432 with 1 Axes>"
      ]
     },
     "metadata": {
      "needs_background": "light"
     },
     "output_type": "display_data"
    }
   ],
   "source": [
    "plt.figure(figsize=(8,6))\n",
    "plt.scatter(pixels/3, t)\n",
    "plt.title('Inference Time by Image Size')\n",
    "plt.xlabel('Image Size (pixels)')\n",
    "plt.ylabel('Inference Time (s)')\n",
    "plt.grid()"
   ]
  },
  {
   "cell_type": "code",
   "execution_count": 104,
   "metadata": {
    "scrolled": false
   },
   "outputs": [
    {
     "data": {
      "image/png": "[encoded data removed]",
      "text/plain": [
       "<Figure size 576x432 with 1 Axes>"
      ]
     },
     "metadata": {
      "needs_background": "light"
     },
     "output_type": "display_data"
    }
   ],
   "source": [
    "plt.figure(figsize=(8,6))\n",
    "plt.scatter(n_actual, t)\n",
    "plt.title('Inference Time by Number of Actual Strawberries')\n",
    "plt.xlabel('Number of Strawberries')\n",
    "plt.ylabel('Inference Time (s)')\n",
    "plt.grid()"
   ]
  },
  {
   "cell_type": "code",
   "execution_count": 105,
   "metadata": {
    "scrolled": false
   },
   "outputs": [
    {
     "data": {
      "image/png": "[encoded data removed]",
      "text/plain": [
       "<Figure size 576x432 with 1 Axes>"
      ]
     },
     "metadata": {
      "needs_background": "light"
     },
     "output_type": "display_data"
    }
   ],
   "source": [
    "plt.figure(figsize=(8,6))\n",
    "plt.scatter(n_pred, t)\n",
    "plt.title('Inference Time by Number of Predicted Strawberries')\n",
    "plt.xlabel('Number of Strawberries')\n",
    "plt.ylabel('Inference Time (s)')\n",
    "plt.grid()"
   ]
  },
  {
   "cell_type": "code",
   "execution_count": 48,
   "metadata": {
    "scrolled": true
   },
   "outputs": [
    {
     "name": "stdout",
     "output_type": "stream",
     "text": [
      "Mean number of missing boxes: 5.28\n",
      "Mean number of added boxes: 3.56\n"
     ]
    }
   ],
   "source": [
    "print('Mean number of missing boxes: {}'.format(np.mean([ir.missing for ir in img_results.values()])))\n",
    "print('Mean number of added boxes: {}'.format(np.mean([ir.added for ir in img_results.values()])))"
   ]
  },
  {
   "cell_type": "code",
   "execution_count": 51,
   "metadata": {
    "scrolled": true
   },
   "outputs": [
    {
     "name": "stdout",
     "output_type": "stream",
     "text": [
      "Worst image in terms of missing boxes\n",
      "ImageResult({'img_name': 'strawimage68.jpg', 'img_shape': (800, 1053, 3), 'test_time': 0.49787425994873047, 'actual_boxes': 48, 'pred_boxes': 31, 'missing': 21, 'added': 4, 'total': 52})\n",
      "Best image in terms of missing boxes\n",
      "ImageResult({'img_name': 'strawimage88.jpg', 'img_shape': (345, 512, 3), 'test_time': 0.8420779705047607, 'actual_boxes': 11, 'pred_boxes': 14, 'missing': 0, 'added': 3, 'total': 14})\n"
     ]
    }
   ],
   "source": [
    "print('Worst image in terms of missing boxes')\n",
    "print(max(img_results.values(), key=lambda ir: ir.missing))\n",
    "print('Best image in terms of missing boxes')\n",
    "print(min(img_results.values(), key=lambda ir: ir.missing))"
   ]
  },
  {
   "cell_type": "code",
   "execution_count": 52,
   "metadata": {},
   "outputs": [
    {
     "name": "stdout",
     "output_type": "stream",
     "text": [
      "Worst image in terms of added boxes\n",
      "ImageResult({'img_name': 'strawimage56.jpg', 'img_shape': (676, 890, 3), 'test_time': 0.8630719184875488, 'actual_boxes': 25, 'pred_boxes': 17, 'missing': 18, 'added': 10, 'total': 35})\n",
      "Best image in terms of added boxes\n",
      "ImageResult({'img_name': 'strawimage78.jpg', 'img_shape': (625, 1000, 3), 'test_time': 0.9667212963104248, 'actual_boxes': 7, 'pred_boxes': 4, 'missing': 3, 'added': 0, 'total': 7})\n"
     ]
    }
   ],
   "source": [
    "print('Worst image in terms of added boxes')\n",
    "print(max(img_results.values(), key=lambda ir: ir.added))\n",
    "print('Best image in terms of added boxes')\n",
    "print(min(img_results.values(), key=lambda ir: ir.added))"
   ]
  },
  {
   "cell_type": "code",
   "execution_count": 16,
   "metadata": {
    "scrolled": true
   },
   "outputs": [
    {
     "name": "stdout",
     "output_type": "stream",
     "text": [
      "Mean number of actual boxes: 13.2\n",
      "Mean number of predicted boxes: 11.48\n"
     ]
    }
   ],
   "source": [
    "print('Mean number of actual boxes: {}'.format(np.mean([ir.actual_boxes for ir in img_results.values()])))\n",
    "print('Mean number of predicted boxes: {}'.format(np.mean([ir.pred_boxes for ir in img_results.values()])))"
   ]
  },
  {
   "cell_type": "code",
   "execution_count": 31,
   "metadata": {},
   "outputs": [
    {
     "data": {
      "text/plain": [
       "48"
      ]
     },
     "execution_count": 31,
     "metadata": {},
     "output_type": "execute_result"
    }
   ],
   "source": [
    "max(ir.actual_boxes for ir in img_results.values())"
   ]
  },
  {
   "cell_type": "code",
   "execution_count": 53,
   "metadata": {
    "scrolled": true
   },
   "outputs": [],
   "source": [
    "label_results = {\n",
    "    'ripe_strawberry': LabelResult('ripe_strawberry'),\n",
    "    'unripe_strawberry': LabelResult('unripe_strawberry')\n",
    "}\n",
    "\n",
    "for r in results:\n",
    "    if r.actual_cls is None:\n",
    "        continue\n",
    "#     if r.pred_cls is None:\n",
    "#         continue\n",
    "    if r.pred_cls == r.actual_cls:\n",
    "        for label, lr in label_results.items():\n",
    "            if label == r.actual_cls:\n",
    "                lr.tp += 1\n",
    "            else:\n",
    "                lr.tn += 1\n",
    "    else:\n",
    "        for label, lr in label_results.items():\n",
    "            if label == r.actual_cls:\n",
    "                lr.fn += 1\n",
    "            else:\n",
    "                lr.fp += 1\n",
    "    "
   ]
  },
  {
   "cell_type": "code",
   "execution_count": 54,
   "metadata": {},
   "outputs": [
    {
     "name": "stdout",
     "output_type": "stream",
     "text": [
      "Ripe precision: 1.0\n",
      "Ripe recall: 0.9959183673469387\n",
      "Unripe precision: 0.993421052631579\n",
      "Unripe recall: 1.0\n"
     ]
    }
   ],
   "source": [
    "ripe, unripe = label_results.values()\n",
    "print('Ripe precision: {}'.format(ripe.tp / (ripe.tp + ripe.fp)))\n",
    "print('Ripe recall: {}'.format(ripe.tp / (ripe.tp + ripe.fn)))\n",
    "print('Unripe precision: {}'.format(unripe.tp / (unripe.tp + unripe.fp)))\n",
    "print('Unripe recall: {}'.format(unripe.tp / (unripe.tp + unripe.fn)))"
   ]
  }
 ],
 "metadata": {
  "kernelspec": {
   "display_name": "Python 3",
   "language": "python",
   "name": "python3"
  },
  "language_info": {
   "codemirror_mode": {
    "name": "ipython",
    "version": 3
   },
   "file_extension": ".py",
   "mimetype": "text/x-python",
   "name": "python",
   "nbconvert_exporter": "python",
   "pygments_lexer": "ipython3",
   "version": "3.6.8"
  }
 },
 "nbformat": 4,
 "nbformat_minor": 2
}
